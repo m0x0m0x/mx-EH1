{
 "cells": [
  {
   "cell_type": "markdown",
   "id": "103171b0",
   "metadata": {
    "_cell_guid": "b1076dfc-b9ad-4769-8c92-a6c4dae69d19",
    "_uuid": "8f2839f25d086af736a60e9eeb907d3b93b6e0e5",
    "papermill": {
     "duration": 0.004075,
     "end_time": "2024-04-09T15:41:05.542615",
     "exception": false,
     "start_time": "2024-04-09T15:41:05.538540",
     "status": "completed"
    },
    "tags": []
   },
   "source": [
    "\n",
    "<img src=\"https://i.postimg.cc/26yWh6JB/image.png\" width=\"10%\">\n",
    "\n",
    "# HoneyCaveSuck\n",
    "\n",
    "1. Testing various cooking tools \n",
    "2. Checking what can be made possible\n",
    "\n",
    "## Good links for this \n",
    "\n",
    "1. [PIP for EH](https://www.pythonstacks.com/blog/post/python-libraries-hacking/) - This one shows some good packages "
   ]
  },
  {
   "cell_type": "markdown",
   "id": "04adbc25",
   "metadata": {
    "papermill": {
     "duration": 0.003245,
     "end_time": "2024-04-09T15:41:05.549486",
     "exception": false,
     "start_time": "2024-04-09T15:41:05.546241",
     "status": "completed"
    },
    "tags": []
   },
   "source": []
  },
  {
   "cell_type": "code",
   "execution_count": 1,
   "id": "4a2e17a9",
   "metadata": {
    "execution": {
     "iopub.execute_input": "2024-04-09T15:41:05.558183Z",
     "iopub.status.busy": "2024-04-09T15:41:05.557772Z",
     "iopub.status.idle": "2024-04-09T15:41:05.692264Z",
     "shell.execute_reply": "2024-04-09T15:41:05.691137Z"
    },
    "papermill": {
     "duration": 0.142258,
     "end_time": "2024-04-09T15:41:05.695104",
     "exception": false,
     "start_time": "2024-04-09T15:41:05.552846",
     "status": "completed"
    },
    "tags": []
   },
   "outputs": [],
   "source": [
    "# Beautification \n",
    "# ------------------------------------------------------\n",
    "from rich import print as rprint # For rprinting\n",
    "from rich.pretty import pprint # For pretty printing\n",
    "from rich import inspect # For inspect\n",
    "from rich.console import Console # For console.print\n",
    "from rich.markdown import Markdown # For markdown\n",
    "from rich.panel import Panel # For Panel()\n",
    "from rich import box # For Panel Boxes\n",
    "from rich.prompt import Prompt # For Prompting \n",
    "console = Console() # Standard code to access console\n",
    "# -------------------------------------------------------"
   ]
  },
  {
   "cell_type": "markdown",
   "id": "475c128e",
   "metadata": {
    "papermill": {
     "duration": 0.003212,
     "end_time": "2024-04-09T15:41:05.701950",
     "exception": false,
     "start_time": "2024-04-09T15:41:05.698738",
     "status": "completed"
    },
    "tags": []
   },
   "source": [
    "## Install Juices "
   ]
  },
  {
   "cell_type": "code",
   "execution_count": 2,
   "id": "e79fec38",
   "metadata": {
    "execution": {
     "iopub.execute_input": "2024-04-09T15:41:05.710533Z",
     "iopub.status.busy": "2024-04-09T15:41:05.710079Z",
     "iopub.status.idle": "2024-04-09T15:42:05.426416Z",
     "shell.execute_reply": "2024-04-09T15:42:05.425255Z"
    },
    "papermill": {
     "duration": 59.723723,
     "end_time": "2024-04-09T15:42:05.429182",
     "exception": false,
     "start_time": "2024-04-09T15:41:05.705459",
     "status": "completed"
    },
    "scrolled": true,
    "tags": []
   },
   "outputs": [
    {
     "name": "stdout",
     "output_type": "stream",
     "text": [
      "Collecting scapy\r\n",
      "  Downloading scapy-2.5.0.tar.gz (1.3 MB)\r\n",
      "\u001b[2K     \u001b[90m━━━━━━━━━━━━━━━━━━━━━━━━━━━━━━━━━━━━━━━━\u001b[0m \u001b[32m1.3/1.3 MB\u001b[0m \u001b[31m13.9 MB/s\u001b[0m eta \u001b[36m0:00:00\u001b[0m\r\n",
      "\u001b[?25h  Preparing metadata (setup.py) ... \u001b[?25l-\b \b\\\b \bdone\r\n",
      "\u001b[?25hRequirement already satisfied: requests in /opt/conda/lib/python3.10/site-packages (2.31.0)\r\n",
      "Collecting impacket\r\n",
      "  Downloading impacket-0.11.0.tar.gz (1.5 MB)\r\n",
      "\u001b[2K     \u001b[90m━━━━━━━━━━━━━━━━━━━━━━━━━━━━━━━━━━━━━━━━\u001b[0m \u001b[32m1.5/1.5 MB\u001b[0m \u001b[31m40.0 MB/s\u001b[0m eta \u001b[36m0:00:00\u001b[0m\r\n",
      "\u001b[?25h  Preparing metadata (setup.py) ... \u001b[?25l-\b \bdone\r\n",
      "\u001b[?25hCollecting pwntools\r\n",
      "  Downloading pwntools-4.12.0-py2.py3-none-any.whl.metadata (5.2 kB)\r\n",
      "Requirement already satisfied: cryptography in /opt/conda/lib/python3.10/site-packages (41.0.7)\r\n",
      "Collecting python-nmap\r\n",
      "  Downloading python-nmap-0.7.1.tar.gz (44 kB)\r\n",
      "\u001b[2K     \u001b[90m━━━━━━━━━━━━━━━━━━━━━━━━━━━━━━━━━━━━━━━━\u001b[0m \u001b[32m44.4/44.4 kB\u001b[0m \u001b[31m2.5 MB/s\u001b[0m eta \u001b[36m0:00:00\u001b[0m\r\n",
      "\u001b[?25h  Preparing metadata (setup.py) ... \u001b[?25l-\b \bdone\r\n",
      "\u001b[?25hCollecting Faker\r\n",
      "  Downloading Faker-24.8.0-py3-none-any.whl.metadata (15 kB)\r\n",
      "Collecting Twisted\r\n",
      "  Downloading twisted-24.3.0-py3-none-any.whl.metadata (9.5 kB)\r\n",
      "Requirement already satisfied: charset-normalizer<4,>=2 in /opt/conda/lib/python3.10/site-packages (from requests) (3.3.2)\r\n",
      "Requirement already satisfied: idna<4,>=2.5 in /opt/conda/lib/python3.10/site-packages (from requests) (3.6)\r\n",
      "Requirement already satisfied: urllib3<3,>=1.21.1 in /opt/conda/lib/python3.10/site-packages (from requests) (1.26.18)\r\n",
      "Requirement already satisfied: certifi>=2017.4.17 in /opt/conda/lib/python3.10/site-packages (from requests) (2024.2.2)\r\n",
      "Requirement already satisfied: pyasn1>=0.2.3 in /opt/conda/lib/python3.10/site-packages (from impacket) (0.5.1)\r\n",
      "Collecting pycryptodomex (from impacket)\r\n",
      "  Downloading pycryptodomex-3.20.0-cp35-abi3-manylinux_2_17_x86_64.manylinux2014_x86_64.whl.metadata (3.4 kB)\r\n",
      "Requirement already satisfied: pyOpenSSL>=21.0.0 in /opt/conda/lib/python3.10/site-packages (from impacket) (23.3.0)\r\n",
      "Requirement already satisfied: six in /opt/conda/lib/python3.10/site-packages (from impacket) (1.16.0)\r\n",
      "Collecting ldap3!=2.5.0,!=2.5.2,!=2.6,>=2.5 (from impacket)\r\n",
      "  Downloading ldap3-2.9.1-py2.py3-none-any.whl.metadata (5.4 kB)\r\n",
      "Collecting ldapdomaindump>=0.9.0 (from impacket)\r\n",
      "  Downloading ldapdomaindump-0.9.4-py3-none-any.whl.metadata (359 bytes)\r\n",
      "Requirement already satisfied: flask>=1.0 in /opt/conda/lib/python3.10/site-packages (from impacket) (3.0.2)\r\n",
      "Requirement already satisfied: future in /opt/conda/lib/python3.10/site-packages (from impacket) (1.0.0)\r\n",
      "Collecting dsinternals (from impacket)\r\n",
      "  Downloading dsinternals-1.2.4.tar.gz (174 kB)\r\n",
      "\u001b[2K     \u001b[90m━━━━━━━━━━━━━━━━━━━━━━━━━━━━━━━━━━━━━━━\u001b[0m \u001b[32m174.2/174.2 kB\u001b[0m \u001b[31m9.6 MB/s\u001b[0m eta \u001b[36m0:00:00\u001b[0m\r\n",
      "\u001b[?25h  Preparing metadata (setup.py) ... \u001b[?25l-\b \bdone\r\n",
      "\u001b[?25hCollecting paramiko>=1.15.2 (from pwntools)\r\n",
      "  Downloading paramiko-3.4.0-py3-none-any.whl.metadata (4.4 kB)\r\n",
      "Requirement already satisfied: mako>=1.0.0 in /opt/conda/lib/python3.10/site-packages (from pwntools) (1.3.2)\r\n",
      "Collecting capstone>=3.0.5rc2 (from pwntools)\r\n",
      "  Downloading capstone-5.0.1-py3-none-manylinux1_x86_64.manylinux_2_5_x86_64.whl.metadata (3.4 kB)\r\n",
      "Collecting ropgadget>=5.3 (from pwntools)\r\n",
      "  Downloading ROPGadget-7.4-py3-none-any.whl.metadata (868 bytes)\r\n",
      "Collecting pyserial>=2.7 (from pwntools)\r\n",
      "  Downloading pyserial-3.5-py2.py3-none-any.whl.metadata (1.6 kB)\r\n",
      "Requirement already satisfied: pip>=6.0.8 in /opt/conda/lib/python3.10/site-packages (from pwntools) (23.3.2)\r\n",
      "Requirement already satisfied: pygments>=2.0 in /opt/conda/lib/python3.10/site-packages (from pwntools) (2.17.2)\r\n",
      "Requirement already satisfied: pysocks in /opt/conda/lib/python3.10/site-packages (from pwntools) (1.7.1)\r\n",
      "Requirement already satisfied: python-dateutil in /opt/conda/lib/python3.10/site-packages (from pwntools) (2.9.0.post0)\r\n",
      "Requirement already satisfied: packaging in /opt/conda/lib/python3.10/site-packages (from pwntools) (21.3)\r\n",
      "Requirement already satisfied: psutil>=3.3.0 in /opt/conda/lib/python3.10/site-packages (from pwntools) (5.9.3)\r\n",
      "Collecting intervaltree>=3.0 (from pwntools)\r\n",
      "  Downloading intervaltree-3.1.0.tar.gz (32 kB)\r\n",
      "  Preparing metadata (setup.py) ... \u001b[?25l-\b \bdone\r\n",
      "\u001b[?25hCollecting sortedcontainers (from pwntools)\r\n",
      "  Downloading sortedcontainers-2.4.0-py2.py3-none-any.whl.metadata (10 kB)\r\n",
      "Collecting unicorn>=1.0.2rc1 (from pwntools)\r\n",
      "  Downloading unicorn-2.0.1.post1-py2.py3-none-manylinux1_x86_64.manylinux_2_17_x86_64.manylinux2014_x86_64.whl.metadata (1.3 kB)\r\n",
      "Collecting rpyc (from pwntools)\r\n",
      "  Downloading rpyc-6.0.0-py3-none-any.whl.metadata (3.5 kB)\r\n",
      "Collecting colored-traceback (from pwntools)\r\n",
      "  Downloading colored-traceback-0.3.0.tar.gz (3.8 kB)\r\n",
      "  Preparing metadata (setup.py) ... \u001b[?25l-\b \bdone\r\n",
      "\u001b[?25hRequirement already satisfied: zstandard in /opt/conda/lib/python3.10/site-packages (from pwntools) (0.22.0)\r\n",
      "Collecting pyelftools>=0.24 (from pwntools)\r\n",
      "  Downloading pyelftools-0.31-py3-none-any.whl.metadata (381 bytes)\r\n",
      "Collecting unix-ar (from pwntools)\r\n",
      "  Downloading unix_ar-0.2.1-py2.py3-none-any.whl.metadata (1.9 kB)\r\n",
      "Requirement already satisfied: cffi>=1.12 in /opt/conda/lib/python3.10/site-packages (from cryptography) (1.16.0)\r\n",
      "Requirement already satisfied: attrs>=21.3.0 in /opt/conda/lib/python3.10/site-packages (from Twisted) (23.2.0)\r\n",
      "Collecting automat>=0.8.0 (from Twisted)\r\n",
      "  Downloading Automat-22.10.0-py2.py3-none-any.whl.metadata (1.0 kB)\r\n",
      "Collecting constantly>=15.1 (from Twisted)\r\n",
      "  Downloading constantly-23.10.4-py3-none-any.whl.metadata (1.8 kB)\r\n",
      "Collecting hyperlink>=17.1.1 (from Twisted)\r\n",
      "  Downloading hyperlink-21.0.0-py2.py3-none-any.whl.metadata (1.5 kB)\r\n",
      "Collecting incremental>=22.10.0 (from Twisted)\r\n",
      "  Downloading incremental-22.10.0-py2.py3-none-any.whl.metadata (6.0 kB)\r\n",
      "Requirement already satisfied: typing-extensions>=4.2.0 in /opt/conda/lib/python3.10/site-packages (from Twisted) (4.9.0)\r\n",
      "Collecting zope-interface>=5 (from Twisted)\r\n",
      "  Downloading zope.interface-6.2-cp310-cp310-manylinux_2_5_x86_64.manylinux1_x86_64.manylinux_2_17_x86_64.manylinux2014_x86_64.whl.metadata (41 kB)\r\n",
      "\u001b[2K     \u001b[90m━━━━━━━━━━━━━━━━━━━━━━━━━━━━━━━━━━━━━━━━\u001b[0m \u001b[32m41.9/41.9 kB\u001b[0m \u001b[31m2.3 MB/s\u001b[0m eta \u001b[36m0:00:00\u001b[0m\r\n",
      "\u001b[?25hRequirement already satisfied: pycparser in /opt/conda/lib/python3.10/site-packages (from cffi>=1.12->cryptography) (2.21)\r\n",
      "Requirement already satisfied: Werkzeug>=3.0.0 in /opt/conda/lib/python3.10/site-packages (from flask>=1.0->impacket) (3.0.2)\r\n",
      "Requirement already satisfied: Jinja2>=3.1.2 in /opt/conda/lib/python3.10/site-packages (from flask>=1.0->impacket) (3.1.2)\r\n",
      "Requirement already satisfied: itsdangerous>=2.1.2 in /opt/conda/lib/python3.10/site-packages (from flask>=1.0->impacket) (2.1.2)\r\n",
      "Requirement already satisfied: click>=8.1.3 in /opt/conda/lib/python3.10/site-packages (from flask>=1.0->impacket) (8.1.7)\r\n",
      "Requirement already satisfied: blinker>=1.6.2 in /opt/conda/lib/python3.10/site-packages (from flask>=1.0->impacket) (1.7.0)\r\n",
      "Collecting dnspython (from ldapdomaindump>=0.9.0->impacket)\r\n",
      "  Downloading dnspython-2.6.1-py3-none-any.whl.metadata (5.8 kB)\r\n",
      "Requirement already satisfied: MarkupSafe>=0.9.2 in /opt/conda/lib/python3.10/site-packages (from mako>=1.0.0->pwntools) (2.1.3)\r\n",
      "Collecting bcrypt>=3.2 (from paramiko>=1.15.2->pwntools)\r\n",
      "  Downloading bcrypt-4.1.2-cp39-abi3-manylinux_2_28_x86_64.whl.metadata (9.5 kB)\r\n",
      "Collecting pynacl>=1.5 (from paramiko>=1.15.2->pwntools)\r\n",
      "  Downloading PyNaCl-1.5.0-cp36-abi3-manylinux_2_17_x86_64.manylinux2014_x86_64.manylinux_2_24_x86_64.whl.metadata (8.6 kB)\r\n",
      "Requirement already satisfied: setuptools in /opt/conda/lib/python3.10/site-packages (from zope-interface>=5->Twisted) (69.0.3)\r\n",
      "Requirement already satisfied: pyparsing!=3.0.5,>=2.0.2 in /opt/conda/lib/python3.10/site-packages (from packaging->pwntools) (3.1.1)\r\n",
      "Collecting plumbum (from rpyc->pwntools)\r\n",
      "  Downloading plumbum-1.8.2-py3-none-any.whl.metadata (10 kB)\r\n",
      "Downloading pwntools-4.12.0-py2.py3-none-any.whl (11.8 MB)\r\n",
      "\u001b[2K   \u001b[90m━━━━━━━━━━━━━━━━━━━━━━━━━━━━━━━━━━━━━━━━\u001b[0m \u001b[32m11.8/11.8 MB\u001b[0m \u001b[31m56.3 MB/s\u001b[0m eta \u001b[36m0:00:00\u001b[0m\r\n",
      "\u001b[?25hDownloading Faker-24.8.0-py3-none-any.whl (1.8 MB)\r\n",
      "\u001b[2K   \u001b[90m━━━━━━━━━━━━━━━━━━━━━━━━━━━━━━━━━━━━━━━━\u001b[0m \u001b[32m1.8/1.8 MB\u001b[0m \u001b[31m37.9 MB/s\u001b[0m eta \u001b[36m0:00:00\u001b[0m\r\n",
      "\u001b[?25hDownloading twisted-24.3.0-py3-none-any.whl (3.2 MB)\r\n",
      "\u001b[2K   \u001b[90m━━━━━━━━━━━━━━━━━━━━━━━━━━━━━━━━━━━━━━━━\u001b[0m \u001b[32m3.2/3.2 MB\u001b[0m \u001b[31m52.2 MB/s\u001b[0m eta \u001b[36m0:00:00\u001b[0m\r\n",
      "\u001b[?25hDownloading Automat-22.10.0-py2.py3-none-any.whl (26 kB)\r\n",
      "Downloading capstone-5.0.1-py3-none-manylinux1_x86_64.manylinux_2_5_x86_64.whl (2.9 MB)\r\n",
      "\u001b[2K   \u001b[90m━━━━━━━━━━━━━━━━━━━━━━━━━━━━━━━━━━━━━━━━\u001b[0m \u001b[32m2.9/2.9 MB\u001b[0m \u001b[31m50.5 MB/s\u001b[0m eta \u001b[36m0:00:00\u001b[0m\r\n",
      "\u001b[?25hDownloading constantly-23.10.4-py3-none-any.whl (13 kB)\r\n",
      "Downloading hyperlink-21.0.0-py2.py3-none-any.whl (74 kB)\r\n",
      "\u001b[2K   \u001b[90m━━━━━━━━━━━━━━━━━━━━━━━━━━━━━━━━━━━━━━━━\u001b[0m \u001b[32m74.6/74.6 kB\u001b[0m \u001b[31m4.1 MB/s\u001b[0m eta \u001b[36m0:00:00\u001b[0m\r\n",
      "\u001b[?25hDownloading incremental-22.10.0-py2.py3-none-any.whl (16 kB)\r\n",
      "Downloading ldap3-2.9.1-py2.py3-none-any.whl (432 kB)\r\n",
      "\u001b[2K   \u001b[90m━━━━━━━━━━━━━━━━━━━━━━━━━━━━━━━━━━━━━━━━\u001b[0m \u001b[32m432.2/432.2 kB\u001b[0m \u001b[31m19.8 MB/s\u001b[0m eta \u001b[36m0:00:00\u001b[0m\r\n",
      "\u001b[?25hDownloading ldapdomaindump-0.9.4-py3-none-any.whl (18 kB)\r\n",
      "Downloading paramiko-3.4.0-py3-none-any.whl (225 kB)\r\n",
      "\u001b[2K   \u001b[90m━━━━━━━━━━━━━━━━━━━━━━━━━━━━━━━━━━━━━━━━\u001b[0m \u001b[32m225.9/225.9 kB\u001b[0m \u001b[31m10.1 MB/s\u001b[0m eta \u001b[36m0:00:00\u001b[0m\r\n",
      "\u001b[?25hDownloading pyelftools-0.31-py3-none-any.whl (180 kB)\r\n",
      "\u001b[2K   \u001b[90m━━━━━━━━━━━━━━━━━━━━━━━━━━━━━━━━━━━━━━━━\u001b[0m \u001b[32m180.5/180.5 kB\u001b[0m \u001b[31m10.3 MB/s\u001b[0m eta \u001b[36m0:00:00\u001b[0m\r\n",
      "\u001b[?25hDownloading pyserial-3.5-py2.py3-none-any.whl (90 kB)\r\n",
      "\u001b[2K   \u001b[90m━━━━━━━━━━━━━━━━━━━━━━━━━━━━━━━━━━━━━━━━\u001b[0m \u001b[32m90.6/90.6 kB\u001b[0m \u001b[31m5.3 MB/s\u001b[0m eta \u001b[36m0:00:00\u001b[0m\r\n",
      "\u001b[?25hDownloading ROPGadget-7.4-py3-none-any.whl (32 kB)\r\n",
      "Downloading sortedcontainers-2.4.0-py2.py3-none-any.whl (29 kB)\r\n",
      "Downloading unicorn-2.0.1.post1-py2.py3-none-manylinux1_x86_64.manylinux_2_17_x86_64.manylinux2014_x86_64.whl (16.1 MB)\r\n",
      "\u001b[2K   \u001b[90m━━━━━━━━━━━━━━━━━━━━━━━━━━━━━━━━━━━━━━━━\u001b[0m \u001b[32m16.1/16.1 MB\u001b[0m \u001b[31m47.7 MB/s\u001b[0m eta \u001b[36m0:00:00\u001b[0m\r\n",
      "\u001b[?25hDownloading zope.interface-6.2-cp310-cp310-manylinux_2_5_x86_64.manylinux1_x86_64.manylinux_2_17_x86_64.manylinux2014_x86_64.whl (247 kB)\r\n",
      "\u001b[2K   \u001b[90m━━━━━━━━━━━━━━━━━━━━━━━━━━━━━━━━━━━━━━━━\u001b[0m \u001b[32m247.3/247.3 kB\u001b[0m \u001b[31m9.9 MB/s\u001b[0m eta \u001b[36m0:00:00\u001b[0m\r\n",
      "\u001b[?25hDownloading pycryptodomex-3.20.0-cp35-abi3-manylinux_2_17_x86_64.manylinux2014_x86_64.whl (2.1 MB)\r\n",
      "\u001b[2K   \u001b[90m━━━━━━━━━━━━━━━━━━━━━━━━━━━━━━━━━━━━━━━━\u001b[0m \u001b[32m2.1/2.1 MB\u001b[0m \u001b[31m56.6 MB/s\u001b[0m eta \u001b[36m0:00:00\u001b[0m\r\n",
      "\u001b[?25hDownloading rpyc-6.0.0-py3-none-any.whl (74 kB)\r\n",
      "\u001b[2K   \u001b[90m━━━━━━━━━━━━━━━━━━━━━━━━━━━━━━━━━━━━━━━━\u001b[0m \u001b[32m74.5/74.5 kB\u001b[0m \u001b[31m4.0 MB/s\u001b[0m eta \u001b[36m0:00:00\u001b[0m\r\n",
      "\u001b[?25hDownloading unix_ar-0.2.1-py2.py3-none-any.whl (6.5 kB)\r\n",
      "Downloading bcrypt-4.1.2-cp39-abi3-manylinux_2_28_x86_64.whl (698 kB)\r\n",
      "\u001b[2K   \u001b[90m━━━━━━━━━━━━━━━━━━━━━━━━━━━━━━━━━━━━━━━━\u001b[0m \u001b[32m698.9/698.9 kB\u001b[0m \u001b[31m28.2 MB/s\u001b[0m eta \u001b[36m0:00:00\u001b[0m\r\n",
      "\u001b[?25hDownloading PyNaCl-1.5.0-cp36-abi3-manylinux_2_17_x86_64.manylinux2014_x86_64.manylinux_2_24_x86_64.whl (856 kB)\r\n",
      "\u001b[2K   \u001b[90m━━━━━━━━━━━━━━━━━━━━━━━━━━━━━━━━━━━━━━━━\u001b[0m \u001b[32m856.7/856.7 kB\u001b[0m \u001b[31m31.0 MB/s\u001b[0m eta \u001b[36m0:00:00\u001b[0m\r\n",
      "\u001b[?25hDownloading dnspython-2.6.1-py3-none-any.whl (307 kB)\r\n",
      "\u001b[2K   \u001b[90m━━━━━━━━━━━━━━━━━━━━━━━━━━━━━━━━━━━━━━━━\u001b[0m \u001b[32m307.7/307.7 kB\u001b[0m \u001b[31m15.7 MB/s\u001b[0m eta \u001b[36m0:00:00\u001b[0m\r\n",
      "\u001b[?25hDownloading plumbum-1.8.2-py3-none-any.whl (127 kB)\r\n",
      "\u001b[2K   \u001b[90m━━━━━━━━━━━━━━━━━━━━━━━━━━━━━━━━━━━━━━━━\u001b[0m \u001b[32m127.0/127.0 kB\u001b[0m \u001b[31m7.4 MB/s\u001b[0m eta \u001b[36m0:00:00\u001b[0m\r\n",
      "\u001b[?25hBuilding wheels for collected packages: scapy, impacket, python-nmap, intervaltree, colored-traceback, dsinternals\r\n",
      "  Building wheel for scapy (setup.py) ... \u001b[?25l-\b \b\\\b \b|\b \bdone\r\n",
      "\u001b[?25h  Created wheel for scapy: filename=scapy-2.5.0-py2.py3-none-any.whl size=1444328 sha256=288fe20dfcfa84313e0347c6aed16e6ae9071a12e74fa0da0df79558abf85942\r\n",
      "  Stored in directory: /root/.cache/pip/wheels/82/b7/03/8344d8cf6695624746311bc0d389e9d05535ca83c35f90241d\r\n",
      "  Building wheel for impacket (setup.py) ... \u001b[?25l-\b \b\\\b \bdone\r\n",
      "\u001b[?25h  Created wheel for impacket: filename=impacket-0.11.0-py3-none-any.whl size=1514572 sha256=b950622897b2edf48ae21af787795ccb8335a2aa579a37e8cd1b315909e83d76\r\n",
      "  Stored in directory: /root/.cache/pip/wheels/18/e6/d8/b3aab8716ebb752833318bff3aa2177fee134acd8d5778f1b1\r\n",
      "  Building wheel for python-nmap (setup.py) ... \u001b[?25l-\b \b\\\b \bdone\r\n",
      "\u001b[?25h  Created wheel for python-nmap: filename=python_nmap-0.7.1-py2.py3-none-any.whl size=20633 sha256=ad57fe3c22f690e3b14e09401b68df29322005bf83f30f2c518077bc904432f6\r\n",
      "  Stored in directory: /root/.cache/pip/wheels/da/bd/c6/0342ac886d4deb8d166a3191eb2566f738c5b1574cb0a8cd62\r\n",
      "  Building wheel for intervaltree (setup.py) ... \u001b[?25l-\b \b\\\b \bdone\r\n",
      "\u001b[?25h  Created wheel for intervaltree: filename=intervaltree-3.1.0-py2.py3-none-any.whl size=26095 sha256=cb87c4c0edf7347af068f3e1a239fb388ce6ef77482452aba6076c6e8d3144dc\r\n",
      "  Stored in directory: /root/.cache/pip/wheels/fa/80/8c/43488a924a046b733b64de3fac99252674c892a4c3801c0a61\r\n",
      "  Building wheel for colored-traceback (setup.py) ... \u001b[?25l-\b \b\\\b \bdone\r\n",
      "\u001b[?25h  Created wheel for colored-traceback: filename=colored_traceback-0.3.0-py3-none-any.whl size=4607 sha256=15c1e80f8eb1a381f05e71521b6492fa94bff8addf66f21620caf82cde4f873b\r\n",
      "  Stored in directory: /root/.cache/pip/wheels/10/49/bd/750e09783fb038570efede2d03819a7141fc2350de51daf575\r\n",
      "  Building wheel for dsinternals (setup.py) ... \u001b[?25l-\b \b\\\b \bdone\r\n",
      "\u001b[?25h  Created wheel for dsinternals: filename=dsinternals-1.2.4-py3-none-any.whl size=208311 sha256=f089acdfaae6fb87a35b388b9d0fcbe3787f8ae17d5c595e3b7952703a636c18\r\n",
      "  Stored in directory: /root/.cache/pip/wheels/dd/dc/71/93fb7be53723b600c4363af8f0bc1b88aee50a988d26266598\r\n",
      "Successfully built scapy impacket python-nmap intervaltree colored-traceback dsinternals\r\n",
      "Installing collected packages: unicorn, sortedcontainers, python-nmap, pyserial, pyelftools, incremental, zope-interface, unix-ar, scapy, pycryptodomex, plumbum, ldap3, intervaltree, hyperlink, dsinternals, dnspython, constantly, colored-traceback, capstone, bcrypt, automat, Twisted, rpyc, ropgadget, pynacl, ldapdomaindump, Faker, paramiko, pwntools, impacket\r\n",
      "Successfully installed Faker-24.8.0 Twisted-24.3.0 automat-22.10.0 bcrypt-4.1.2 capstone-5.0.1 colored-traceback-0.3.0 constantly-23.10.4 dnspython-2.6.1 dsinternals-1.2.4 hyperlink-21.0.0 impacket-0.11.0 incremental-22.10.0 intervaltree-3.1.0 ldap3-2.9.1 ldapdomaindump-0.9.4 paramiko-3.4.0 plumbum-1.8.2 pwntools-4.12.0 pycryptodomex-3.20.0 pyelftools-0.31 pynacl-1.5.0 pyserial-3.5 python-nmap-0.7.1 ropgadget-7.4 rpyc-6.0.0 scapy-2.5.0 sortedcontainers-2.4.0 unicorn-2.0.1.post1 unix-ar-0.2.1 zope-interface-6.2\r\n"
     ]
    }
   ],
   "source": [
    "# Important Packages for EH \n",
    "!pip install scapy requests impacket pwntools cryptography python-nmap Faker Twisted"
   ]
  },
  {
   "cell_type": "code",
   "execution_count": 3,
   "id": "271efc30",
   "metadata": {
    "execution": {
     "iopub.execute_input": "2024-04-09T15:42:05.460741Z",
     "iopub.status.busy": "2024-04-09T15:42:05.460280Z",
     "iopub.status.idle": "2024-04-09T15:42:19.879621Z",
     "shell.execute_reply": "2024-04-09T15:42:19.878452Z"
    },
    "papermill": {
     "duration": 14.438757,
     "end_time": "2024-04-09T15:42:19.882538",
     "exception": false,
     "start_time": "2024-04-09T15:42:05.443781",
     "status": "completed"
    },
    "scrolled": true,
    "tags": []
   },
   "outputs": [
    {
     "name": "stdout",
     "output_type": "stream",
     "text": [
      "Name: scapy\r\n",
      "Version: 2.5.0\r\n",
      "Summary: Scapy: interactive packet manipulation tool\r\n",
      "Home-page: https://scapy.net\r\n",
      "Author: Philippe BIONDI\r\n",
      "Author-email: guillaume@valadon.net\r\n",
      "License: GPL-2.0-only\r\n",
      "Location: /opt/conda/lib/python3.10/site-packages\r\n",
      "Requires: \r\n",
      "Required-by: \r\n",
      "---\r\n",
      "Name: requests\r\n",
      "Version: 2.31.0\r\n",
      "Summary: Python HTTP for Humans.\r\n",
      "Home-page: https://requests.readthedocs.io\r\n",
      "Author: Kenneth Reitz\r\n",
      "Author-email: me@kennethreitz.org\r\n",
      "License: Apache 2.0\r\n",
      "Location: /opt/conda/lib/python3.10/site-packages\r\n",
      "Requires: certifi, charset-normalizer, idna, urllib3\r\n",
      "Required-by: access, apache-beam, beatrix_jupyterlab, conda, conda_package_streaming, contextily, datasets, datashader, docker, earthengine-api, explainable-ai-sdk, fastai, folium, gcsfs, google-api-core, google-cloud-bigquery, google-cloud-storage, h2o, hdfs, huggingface-hub, hypertools, ipyvolume, jupyterlab_server, kaggle, kaggle-environments, kagglehub, keras-tuner, keyrings.google-artifactregistry-auth, kubernetes, libpysal, nbdime, nilearn, notebook_executor, opentelemetry-exporter-otlp-proto-http, osmnx, pandas-datareader, panel, papermill, pooch, pwntools, quantecon, ray, requests-oauthlib, requests-toolbelt, spacy, tensorboard, tensorflow-datasets, torchdata, torchtext, torchvision, transformers, tsfresh, update-checker, vaex-core, wandb, weasel, wfdb, ydata-profiling\r\n",
      "---\r\n",
      "Name: impacket\r\n",
      "Version: 0.11.0\r\n",
      "Summary: Network protocols Constructors and Dissectors\r\n",
      "Home-page: https://www.coresecurity.com\r\n",
      "Author: SecureAuth Corporation\r\n",
      "Author-email: \r\n",
      "License: Apache modified\r\n",
      "Location: /opt/conda/lib/python3.10/site-packages\r\n",
      "Requires: charset-normalizer, dsinternals, flask, future, ldap3, ldapdomaindump, pyasn1, pycryptodomex, pyOpenSSL, six\r\n",
      "Required-by: \r\n",
      "---\r\n",
      "Name: pwntools\r\n",
      "Version: 4.12.0\r\n",
      "Summary: Pwntools CTF framework and exploit development library.\r\n",
      "Home-page: \r\n",
      "Author: \r\n",
      "Author-email: \"Gallopsled et al.\" <pwntools-users@googlegroups.com>\r\n",
      "License: Mostly MIT, some GPL/BSD, see LICENSE-pwntools.txt\r\n",
      "Location: /opt/conda/lib/python3.10/site-packages\r\n",
      "Requires: capstone, colored-traceback, intervaltree, mako, packaging, paramiko, pip, psutil, pyelftools, pygments, pyserial, pysocks, python-dateutil, requests, ropgadget, rpyc, six, sortedcontainers, unicorn, unix-ar, zstandard\r\n",
      "Required-by: \r\n",
      "---\r\n",
      "Name: cryptography\r\n",
      "Version: 41.0.7\r\n",
      "Summary: cryptography is a package which provides cryptographic recipes and primitives to Python developers.\r\n",
      "Home-page: \r\n",
      "Author: \r\n",
      "Author-email: The Python Cryptographic Authority and individual contributors <cryptography-dev@python.org>\r\n",
      "License: Apache-2.0 OR BSD-3-Clause\r\n",
      "Location: /opt/conda/lib/python3.10/site-packages\r\n",
      "Requires: cffi\r\n",
      "Required-by: paramiko, pyOpenSSL, SecretStorage\r\n",
      "---\r\n",
      "Name: python-nmap\r\n",
      "Version: 0.7.1\r\n",
      "Summary: This is a python class to use nmap and access scan results from python3\r\n",
      "Home-page: http://xael.org/pages/python-nmap-en.html\r\n",
      "Author: Alexandre Norman\r\n",
      "Author-email: norman@xael.org\r\n",
      "License: gpl-3.0.txt\r\n",
      "Location: /opt/conda/lib/python3.10/site-packages\r\n",
      "Requires: \r\n",
      "Required-by: \r\n",
      "---\r\n",
      "Name: Faker\r\n",
      "Version: 24.8.0\r\n",
      "Summary: Faker is a Python package that generates fake data for you.\r\n",
      "Home-page: https://github.com/joke2k/faker\r\n",
      "Author: joke2k\r\n",
      "Author-email: joke2k@gmail.com\r\n",
      "License: MIT License\r\n",
      "Location: /opt/conda/lib/python3.10/site-packages\r\n",
      "Requires: python-dateutil\r\n",
      "Required-by: \r\n",
      "---\r\n",
      "Name: Twisted\r\n",
      "Version: 24.3.0\r\n",
      "Summary: An asynchronous networking framework written in Python\r\n",
      "Home-page: \r\n",
      "Author: \r\n",
      "Author-email: Twisted Matrix Laboratories <twisted-python@twistedmatrix.com>\r\n",
      "License: MIT License\r\n",
      "Location: /opt/conda/lib/python3.10/site-packages\r\n",
      "Requires: attrs, automat, constantly, hyperlink, incremental, typing-extensions, zope-interface\r\n",
      "Required-by: \r\n"
     ]
    }
   ],
   "source": [
    "# Check if abov einstalled \n",
    "!pip show scapy requests impacket pwntools cryptography python-nmap Faker Twisted\n"
   ]
  },
  {
   "cell_type": "markdown",
   "id": "169cf2da",
   "metadata": {
    "papermill": {
     "duration": 0.014584,
     "end_time": "2024-04-09T15:42:19.912367",
     "exception": false,
     "start_time": "2024-04-09T15:42:19.897783",
     "status": "completed"
    },
    "tags": []
   },
   "source": [
    "## Scapy\n",
    "\n",
    "1. Various tests using scapy "
   ]
  },
  {
   "cell_type": "code",
   "execution_count": 4,
   "id": "793fd06c",
   "metadata": {
    "execution": {
     "iopub.execute_input": "2024-04-09T15:42:19.945222Z",
     "iopub.status.busy": "2024-04-09T15:42:19.944828Z",
     "iopub.status.idle": "2024-04-09T15:42:20.453941Z",
     "shell.execute_reply": "2024-04-09T15:42:20.452892Z"
    },
    "papermill": {
     "duration": 0.528504,
     "end_time": "2024-04-09T15:42:20.456362",
     "exception": false,
     "start_time": "2024-04-09T15:42:19.927858",
     "status": "completed"
    },
    "tags": []
   },
   "outputs": [
    {
     "data": {
      "text/html": [
       "<pre style=\"white-space:pre;overflow-x:auto;line-height:normal;font-family:Menlo,'DejaVu Sans Mono',consolas,'Courier New',monospace\">\n",
       "Current Home IP - <span style=\"color: #00ff00; text-decoration-color: #00ff00; font-weight: bold\">172.19.2.2</span>\n",
       "\n",
       "</pre>\n"
      ],
      "text/plain": [
       "\n",
       "Current Home IP - \u001b[1;92m172.19.2.2\u001b[0m\n",
       "\n"
      ]
     },
     "metadata": {},
     "output_type": "display_data"
    }
   ],
   "source": [
    "# Gettin own ip address\n",
    "from scapy.all import *\n",
    "\n",
    "# Get the IP address of the default interface\n",
    "ip = get_if_addr(conf.iface)\n",
    "rprint(f\"\"\"\n",
    "Current Home IP - {ip}\n",
    "\"\"\")"
   ]
  },
  {
   "cell_type": "markdown",
   "id": "dd130a19",
   "metadata": {
    "papermill": {
     "duration": 0.014888,
     "end_time": "2024-04-09T15:42:20.488052",
     "exception": false,
     "start_time": "2024-04-09T15:42:20.473164",
     "status": "completed"
    },
    "tags": []
   },
   "source": [
    "Python also has a native library called socket for low level network layer programming"
   ]
  }
 ],
 "metadata": {
  "kaggle": {
   "accelerator": "none",
   "dataSources": [],
   "dockerImageVersionId": 30684,
   "isGpuEnabled": false,
   "isInternetEnabled": true,
   "language": "python",
   "sourceType": "notebook"
  },
  "kernelspec": {
   "display_name": "Python 3",
   "language": "python",
   "name": "python3"
  },
  "language_info": {
   "codemirror_mode": {
    "name": "ipython",
    "version": 3
   },
   "file_extension": ".py",
   "mimetype": "text/x-python",
   "name": "python",
   "nbconvert_exporter": "python",
   "pygments_lexer": "ipython3",
   "version": "3.10.13"
  },
  "papermill": {
   "default_parameters": {},
   "duration": 78.592225,
   "end_time": "2024-04-09T15:42:21.126271",
   "environment_variables": {},
   "exception": null,
   "input_path": "__notebook__.ipynb",
   "output_path": "__notebook__.ipynb",
   "parameters": {},
   "start_time": "2024-04-09T15:41:02.534046",
   "version": "2.5.0"
  }
 },
 "nbformat": 4,
 "nbformat_minor": 5
}
