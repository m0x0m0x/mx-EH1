{
 "cells": [
  {
   "cell_type": "markdown",
   "id": "0a5ba50c",
   "metadata": {
    "_cell_guid": "b1076dfc-b9ad-4769-8c92-a6c4dae69d19",
    "_uuid": "8f2839f25d086af736a60e9eeb907d3b93b6e0e5",
    "papermill": {
     "duration": 0.005274,
     "end_time": "2024-04-13T14:17:38.506425",
     "exception": false,
     "start_time": "2024-04-13T14:17:38.501151",
     "status": "completed"
    },
    "tags": []
   },
   "source": [
    "\n",
    "<img src=\"https://i.postimg.cc/26yWh6JB/image.png\" width=\"10%\">\n",
    "\n",
    "# HoneyCaveSuck\n",
    "\n",
    "1. Testing various cooking tools \n",
    "2. Checking what can be made possible\n",
    "\n",
    "## Good links for this \n",
    "\n",
    "1. [PIP for EH](https://www.pythonstacks.com/blog/post/python-libraries-hacking/) - This one shows some good packages "
   ]
  },
  {
   "cell_type": "markdown",
   "id": "02317c9e",
   "metadata": {
    "papermill": {
     "duration": 0.004674,
     "end_time": "2024-04-13T14:17:38.516167",
     "exception": false,
     "start_time": "2024-04-13T14:17:38.511493",
     "status": "completed"
    },
    "tags": []
   },
   "source": []
  },
  {
   "cell_type": "code",
   "execution_count": 1,
   "id": "c6f3dbd3",
   "metadata": {
    "execution": {
     "iopub.execute_input": "2024-04-13T14:17:38.527568Z",
     "iopub.status.busy": "2024-04-13T14:17:38.527142Z",
     "iopub.status.idle": "2024-04-13T14:17:38.656714Z",
     "shell.execute_reply": "2024-04-13T14:17:38.655769Z"
    },
    "papermill": {
     "duration": 0.138577,
     "end_time": "2024-04-13T14:17:38.659470",
     "exception": false,
     "start_time": "2024-04-13T14:17:38.520893",
     "status": "completed"
    },
    "tags": []
   },
   "outputs": [],
   "source": [
    "# Beautification \n",
    "# ------------------------------------------------------\n",
    "from rich import print as rprint # For rprinting\n",
    "from rich.pretty import pprint # For pretty printing\n",
    "from rich import inspect # For inspect\n",
    "from rich.console import Console # For console.print\n",
    "from rich.markdown import Markdown # For markdown\n",
    "from rich.panel import Panel # For Panel()\n",
    "from rich import box # For Panel Boxes\n",
    "from rich.prompt import Prompt # For Prompting \n",
    "console = Console() # Standard code to access console\n",
    "# -------------------------------------------------------"
   ]
  },
  {
   "cell_type": "markdown",
   "id": "75163e71",
   "metadata": {
    "papermill": {
     "duration": 0.00451,
     "end_time": "2024-04-13T14:17:38.668631",
     "exception": false,
     "start_time": "2024-04-13T14:17:38.664121",
     "status": "completed"
    },
    "tags": []
   },
   "source": [
    "## Install Juices "
   ]
  },
  {
   "cell_type": "code",
   "execution_count": 2,
   "id": "9d6a2045",
   "metadata": {
    "execution": {
     "iopub.execute_input": "2024-04-13T14:17:38.679805Z",
     "iopub.status.busy": "2024-04-13T14:17:38.678796Z",
     "iopub.status.idle": "2024-04-13T14:18:35.184062Z",
     "shell.execute_reply": "2024-04-13T14:18:35.182172Z"
    },
    "papermill": {
     "duration": 56.514091,
     "end_time": "2024-04-13T14:18:35.187177",
     "exception": false,
     "start_time": "2024-04-13T14:17:38.673086",
     "status": "completed"
    },
    "scrolled": true,
    "tags": []
   },
   "outputs": [],
   "source": [
    "# Important Packages for EH \n",
    "!pip install -q scapy requests impacket pwntools cryptography python-nmap Faker Twisted ipinfo"
   ]
  },
  {
   "cell_type": "code",
   "execution_count": 3,
   "id": "dc73d2e2",
   "metadata": {
    "execution": {
     "iopub.execute_input": "2024-04-13T14:18:35.199349Z",
     "iopub.status.busy": "2024-04-13T14:18:35.198926Z",
     "iopub.status.idle": "2024-04-13T14:18:49.563666Z",
     "shell.execute_reply": "2024-04-13T14:18:49.562134Z"
    },
    "papermill": {
     "duration": 14.374214,
     "end_time": "2024-04-13T14:18:49.566627",
     "exception": false,
     "start_time": "2024-04-13T14:18:35.192413",
     "status": "completed"
    },
    "scrolled": true,
    "tags": []
   },
   "outputs": [
    {
     "name": "stdout",
     "output_type": "stream",
     "text": [
      "Name: scapy\r\n",
      "Version: 2.5.0\r\n",
      "Summary: Scapy: interactive packet manipulation tool\r\n",
      "Home-page: https://scapy.net\r\n",
      "Author: Philippe BIONDI\r\n",
      "Author-email: guillaume@valadon.net\r\n",
      "License: GPL-2.0-only\r\n",
      "Location: /opt/conda/lib/python3.10/site-packages\r\n",
      "Requires: \r\n",
      "Required-by: \r\n",
      "---\r\n",
      "Name: requests\r\n",
      "Version: 2.31.0\r\n",
      "Summary: Python HTTP for Humans.\r\n",
      "Home-page: https://requests.readthedocs.io\r\n",
      "Author: Kenneth Reitz\r\n",
      "Author-email: me@kennethreitz.org\r\n",
      "License: Apache 2.0\r\n",
      "Location: /opt/conda/lib/python3.10/site-packages\r\n",
      "Requires: certifi, charset-normalizer, idna, urllib3\r\n",
      "Required-by: access, apache-beam, beatrix_jupyterlab, conda, conda_package_streaming, contextily, datasets, datashader, docker, earthengine-api, explainable-ai-sdk, fastai, folium, gcsfs, google-api-core, google-cloud-bigquery, google-cloud-storage, h2o, hdfs, huggingface-hub, hypertools, ipinfo, ipyvolume, jupyterlab_server, kaggle, kaggle-environments, kagglehub, keras-tuner, keyrings.google-artifactregistry-auth, kubernetes, libpysal, nbdime, nilearn, notebook_executor, opentelemetry-exporter-otlp-proto-http, osmnx, pandas-datareader, panel, papermill, pooch, pwntools, quantecon, ray, requests-oauthlib, requests-toolbelt, spacy, tensorboard, tensorflow-datasets, torchdata, torchtext, torchvision, transformers, tsfresh, update-checker, vaex-core, wandb, weasel, wfdb, ydata-profiling\r\n",
      "---\r\n",
      "Name: impacket\r\n",
      "Version: 0.11.0\r\n",
      "Summary: Network protocols Constructors and Dissectors\r\n",
      "Home-page: https://www.coresecurity.com\r\n",
      "Author: SecureAuth Corporation\r\n",
      "Author-email: \r\n",
      "License: Apache modified\r\n",
      "Location: /opt/conda/lib/python3.10/site-packages\r\n",
      "Requires: charset-normalizer, dsinternals, flask, future, ldap3, ldapdomaindump, pyasn1, pycryptodomex, pyOpenSSL, six\r\n",
      "Required-by: \r\n",
      "---\r\n",
      "Name: pwntools\r\n",
      "Version: 4.12.0\r\n",
      "Summary: Pwntools CTF framework and exploit development library.\r\n",
      "Home-page: \r\n",
      "Author: \r\n",
      "Author-email: \"Gallopsled et al.\" <pwntools-users@googlegroups.com>\r\n",
      "License: Mostly MIT, some GPL/BSD, see LICENSE-pwntools.txt\r\n",
      "Location: /opt/conda/lib/python3.10/site-packages\r\n",
      "Requires: capstone, colored-traceback, intervaltree, mako, packaging, paramiko, pip, psutil, pyelftools, pygments, pyserial, pysocks, python-dateutil, requests, ropgadget, rpyc, six, sortedcontainers, unicorn, unix-ar, zstandard\r\n",
      "Required-by: \r\n",
      "---\r\n",
      "Name: cryptography\r\n",
      "Version: 41.0.7\r\n",
      "Summary: cryptography is a package which provides cryptographic recipes and primitives to Python developers.\r\n",
      "Home-page: \r\n",
      "Author: \r\n",
      "Author-email: The Python Cryptographic Authority and individual contributors <cryptography-dev@python.org>\r\n",
      "License: Apache-2.0 OR BSD-3-Clause\r\n",
      "Location: /opt/conda/lib/python3.10/site-packages\r\n",
      "Requires: cffi\r\n",
      "Required-by: paramiko, pyOpenSSL, SecretStorage\r\n",
      "---\r\n",
      "Name: python-nmap\r\n",
      "Version: 0.7.1\r\n",
      "Summary: This is a python class to use nmap and access scan results from python3\r\n",
      "Home-page: http://xael.org/pages/python-nmap-en.html\r\n",
      "Author: Alexandre Norman\r\n",
      "Author-email: norman@xael.org\r\n",
      "License: gpl-3.0.txt\r\n",
      "Location: /opt/conda/lib/python3.10/site-packages\r\n",
      "Requires: \r\n",
      "Required-by: \r\n",
      "---\r\n",
      "Name: Faker\r\n",
      "Version: 24.9.0\r\n",
      "Summary: Faker is a Python package that generates fake data for you.\r\n",
      "Home-page: https://github.com/joke2k/faker\r\n",
      "Author: joke2k\r\n",
      "Author-email: joke2k@gmail.com\r\n",
      "License: MIT License\r\n",
      "Location: /opt/conda/lib/python3.10/site-packages\r\n",
      "Requires: python-dateutil\r\n",
      "Required-by: \r\n",
      "---\r\n",
      "Name: Twisted\r\n",
      "Version: 24.3.0\r\n",
      "Summary: An asynchronous networking framework written in Python\r\n",
      "Home-page: \r\n",
      "Author: \r\n",
      "Author-email: Twisted Matrix Laboratories <twisted-python@twistedmatrix.com>\r\n",
      "License: MIT License\r\n",
      "Location: /opt/conda/lib/python3.10/site-packages\r\n",
      "Requires: attrs, automat, constantly, hyperlink, incremental, typing-extensions, zope-interface\r\n",
      "Required-by: \r\n",
      "---\r\n",
      "Name: ipinfo\r\n",
      "Version: 5.0.1\r\n",
      "Summary: Official Python library for IPInfo\r\n",
      "Home-page: https://github.com/ipinfo/python\r\n",
      "Author: IPinfo\r\n",
      "Author-email: support@ipinfo.io\r\n",
      "License: Apache License 2.0\r\n",
      "Location: /opt/conda/lib/python3.10/site-packages\r\n",
      "Requires: aiohttp, cachetools, requests\r\n",
      "Required-by: \r\n"
     ]
    }
   ],
   "source": [
    "# Check if abov einstalled \n",
    "!pip show scapy requests impacket pwntools cryptography python-nmap Faker Twisted ipinfo\n"
   ]
  },
  {
   "cell_type": "markdown",
   "id": "80cb40ab",
   "metadata": {
    "papermill": {
     "duration": 0.005055,
     "end_time": "2024-04-13T14:18:49.577194",
     "exception": false,
     "start_time": "2024-04-13T14:18:49.572139",
     "status": "completed"
    },
    "tags": []
   },
   "source": [
    "## Scapy\n",
    "\n",
    "1. Various tests using scapy "
   ]
  },
  {
   "cell_type": "code",
   "execution_count": 4,
   "id": "b2ac82fc",
   "metadata": {
    "execution": {
     "iopub.execute_input": "2024-04-13T14:18:49.589959Z",
     "iopub.status.busy": "2024-04-13T14:18:49.589530Z",
     "iopub.status.idle": "2024-04-13T14:18:50.094955Z",
     "shell.execute_reply": "2024-04-13T14:18:50.094062Z"
    },
    "papermill": {
     "duration": 0.514586,
     "end_time": "2024-04-13T14:18:50.097199",
     "exception": false,
     "start_time": "2024-04-13T14:18:49.582613",
     "status": "completed"
    },
    "tags": []
   },
   "outputs": [
    {
     "data": {
      "text/html": [
       "<pre style=\"white-space:pre;overflow-x:auto;line-height:normal;font-family:Menlo,'DejaVu Sans Mono',consolas,'Courier New',monospace\">\n",
       "Current Home IP - <span style=\"color: #00ff00; text-decoration-color: #00ff00; font-weight: bold\">172.19.2.2</span>\n",
       "\n",
       "</pre>\n"
      ],
      "text/plain": [
       "\n",
       "Current Home IP - \u001b[1;92m172.19.2.2\u001b[0m\n",
       "\n"
      ]
     },
     "metadata": {},
     "output_type": "display_data"
    }
   ],
   "source": [
    "# Gettin own ip address\n",
    "from scapy.all import *\n",
    "\n",
    "# Get the IP address of the default interface\n",
    "ip = get_if_addr(conf.iface)\n",
    "rprint(f\"\"\"\n",
    "Current Home IP - {ip}\n",
    "\"\"\")"
   ]
  },
  {
   "cell_type": "markdown",
   "id": "9ef696bd",
   "metadata": {
    "papermill": {
     "duration": 0.005344,
     "end_time": "2024-04-13T14:18:50.108116",
     "exception": false,
     "start_time": "2024-04-13T14:18:50.102772",
     "status": "completed"
    },
    "tags": []
   },
   "source": [
    "Python also has a native library called socket for low level network layer programming"
   ]
  },
  {
   "cell_type": "markdown",
   "id": "12cd4dd1",
   "metadata": {
    "papermill": {
     "duration": 0.005232,
     "end_time": "2024-04-13T14:18:50.118845",
     "exception": false,
     "start_time": "2024-04-13T14:18:50.113613",
     "status": "completed"
    },
    "tags": []
   },
   "source": [
    "# Getting IP of External Sites \n",
    "1. Will try to get [https://sol-incinerator.com/](https://sol-incinerator.com/) - which is sol burning\n",
    "\n",
    "Will test getting the ips with "
   ]
  },
  {
   "cell_type": "code",
   "execution_count": 5,
   "id": "b030f88d",
   "metadata": {
    "execution": {
     "iopub.execute_input": "2024-04-13T14:18:50.132021Z",
     "iopub.status.busy": "2024-04-13T14:18:50.131501Z",
     "iopub.status.idle": "2024-04-13T14:18:50.382987Z",
     "shell.execute_reply": "2024-04-13T14:18:50.381921Z"
    },
    "papermill": {
     "duration": 0.261454,
     "end_time": "2024-04-13T14:18:50.385781",
     "exception": false,
     "start_time": "2024-04-13T14:18:50.124327",
     "status": "completed"
    },
    "tags": []
   },
   "outputs": [],
   "source": [
    "# Importing secrets \n",
    "from kaggle_secrets import UserSecretsClient\n",
    "user_secrets = UserSecretsClient()\n",
    "secret_value_0 = user_secrets.get_secret(\"ipinfo\")"
   ]
  },
  {
   "cell_type": "markdown",
   "id": "3ac2b25c",
   "metadata": {
    "papermill": {
     "duration": 0.005118,
     "end_time": "2024-04-13T14:18:50.396421",
     "exception": false,
     "start_time": "2024-04-13T14:18:50.391303",
     "status": "completed"
    },
    "tags": []
   },
   "source": [
    "Now with the secrets imported will write the python function to get the IP details \n"
   ]
  },
  {
   "cell_type": "code",
   "execution_count": 6,
   "id": "6b1c65af",
   "metadata": {
    "execution": {
     "iopub.execute_input": "2024-04-13T14:18:50.408817Z",
     "iopub.status.busy": "2024-04-13T14:18:50.408428Z",
     "iopub.status.idle": "2024-04-13T14:18:50.671765Z",
     "shell.execute_reply": "2024-04-13T14:18:50.670500Z"
    },
    "papermill": {
     "duration": 0.273571,
     "end_time": "2024-04-13T14:18:50.675342",
     "exception": false,
     "start_time": "2024-04-13T14:18:50.401771",
     "status": "completed"
    },
    "tags": []
   },
   "outputs": [
    {
     "name": "stdout",
     "output_type": "stream",
     "text": [
      "Website: https://sol-incinerator.com/\n",
      "IP Address: 34.80.232.37\n",
      "City: Taipei\n",
      "Region: Taiwan\n",
      "Country: TW\n",
      "Organization: AS396982 Google LLC\n"
     ]
    }
   ],
   "source": [
    "import requests\n",
    "\n",
    "def get_website_info(website):\n",
    "    # Set up the API endpoint and your access token\n",
    "    api_endpoint = f\"https://ipinfo.io/{website}/json\"\n",
    "    access_token = secret_value_0\n",
    "\n",
    "    # Set the headers with your access token\n",
    "    headers = {\n",
    "        \"Authorization\": f\"Bearer {access_token}\"\n",
    "    }\n",
    "\n",
    "    try:\n",
    "        # Send a GET request to the API endpoint\n",
    "        response = requests.get(api_endpoint, headers=headers)\n",
    "\n",
    "        # Check if the request was successful\n",
    "        if response.status_code == 200:\n",
    "            # Parse the JSON response\n",
    "            data = response.json()\n",
    "\n",
    "            # Extract relevant information from the response\n",
    "            ip = data.get(\"ip\")\n",
    "            city = data.get(\"city\")\n",
    "            region = data.get(\"region\")\n",
    "            country = data.get(\"country\")\n",
    "            org = data.get(\"org\")\n",
    "\n",
    "            # Print the extracted information\n",
    "            print(f\"Website: {website}\")\n",
    "            print(f\"IP Address: {ip}\")\n",
    "            print(f\"City: {city}\")\n",
    "            print(f\"Region: {region}\")\n",
    "            print(f\"Country: {country}\")\n",
    "            print(f\"Organization: {org}\")\n",
    "        else:\n",
    "            print(f\"Error: {response.status_code} - {response.text}\")\n",
    "\n",
    "    except requests.exceptions.RequestException as e:\n",
    "        print(f\"Error: {e}\")\n",
    "\n",
    "# Example usage\n",
    "website = \"https://sol-incinerator.com/\"  # Replace with your own website domain\n",
    "get_website_info(website)"
   ]
  }
 ],
 "metadata": {
  "kaggle": {
   "accelerator": "none",
   "dataSources": [],
   "dockerImageVersionId": 30684,
   "isGpuEnabled": false,
   "isInternetEnabled": true,
   "language": "python",
   "sourceType": "notebook"
  },
  "kernelspec": {
   "display_name": "Python 3",
   "language": "python",
   "name": "python3"
  },
  "language_info": {
   "codemirror_mode": {
    "name": "ipython",
    "version": 3
   },
   "file_extension": ".py",
   "mimetype": "text/x-python",
   "name": "python",
   "nbconvert_exporter": "python",
   "pygments_lexer": "ipython3",
   "version": "3.10.13"
  },
  "papermill": {
   "default_parameters": {},
   "duration": 75.746714,
   "end_time": "2024-04-13T14:18:51.306907",
   "environment_variables": {},
   "exception": null,
   "input_path": "__notebook__.ipynb",
   "output_path": "__notebook__.ipynb",
   "parameters": {},
   "start_time": "2024-04-13T14:17:35.560193",
   "version": "2.5.0"
  }
 },
 "nbformat": 4,
 "nbformat_minor": 5
}
